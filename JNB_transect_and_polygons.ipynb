{
 "cells": [
  {
   "cell_type": "markdown",
   "metadata": {},
   "source": [
    "# Create Transects and Polygons from Centerline"
   ]
  },
  {
   "cell_type": "markdown",
   "metadata": {},
   "source": [
    "Note: The user input centerline shape file must have a Coordinate Reference System (CRS) that is projected as opposed to geographic. A CRS is also known as a Spatial Reference System (SRS). Examples of a projected CRS are a state plane or Universal Transverse Mercator (UTM).\n"
   ]
  },
  {
   "cell_type": "markdown",
   "metadata": {},
   "source": [
    "## Initialize"
   ]
  },
  {
   "cell_type": "code",
   "execution_count": 14,
   "metadata": {},
   "outputs": [
    {
     "name": "stderr",
     "output_type": "stream",
     "text": [
      "Enabling notebook extension jupyter-leaflet/extension...\n",
      "      - Validating: ok\n"
     ]
    }
   ],
   "source": [
    "!jupyter nbextension enable --py --sys-prefix ipyleaflet\n",
    "import numpy as np\n",
    "import pandas as pd\n",
    "import geopandas as gpd\n",
    "from shapely.geometry import Point, LineString, Polygon\n",
    "import ipywidgets as widgets\n",
    "from IPython.display import display, display_html\n",
    "from ipyfilechooser import FileChooser"
   ]
  },
  {
   "cell_type": "markdown",
   "metadata": {},
   "source": [
    "## User Input Widgets"
   ]
  },
  {
   "cell_type": "code",
   "execution_count": 15,
   "metadata": {},
   "outputs": [
    {
     "data": {
      "application/vnd.jupyter.widget-view+json": {
       "model_id": "61e9c9e35a9646dab833cb026aa73530",
       "version_major": 2,
       "version_minor": 0
      },
      "text/plain": [
       "HTML(value='<b>Number of CE-QUAL-W2 Segments)</b>')"
      ]
     },
     "metadata": {},
     "output_type": "display_data"
    },
    {
     "data": {
      "application/vnd.jupyter.widget-view+json": {
       "model_id": "69269aab73904c838e0761695b978b6d",
       "version_major": 2,
       "version_minor": 0
      },
      "text/plain": [
       "BoundedIntText(value=1, description='Segments:', max=1000000, min=1)"
      ]
     },
     "metadata": {},
     "output_type": "display_data"
    },
    {
     "data": {
      "application/vnd.jupyter.widget-view+json": {
       "model_id": "1c1ff16b3e8149389eb4734e7ace4fc6",
       "version_major": 2,
       "version_minor": 0
      },
      "text/plain": [
       "HTML(value='<b>Transect Width (units are the same as the CRS associated with the centerline shape file)</b>')"
      ]
     },
     "metadata": {},
     "output_type": "display_data"
    },
    {
     "data": {
      "application/vnd.jupyter.widget-view+json": {
       "model_id": "c2ae22409bea4a09bce454685cf6f4c4",
       "version_major": 2,
       "version_minor": 0
      },
      "text/plain": [
       "FloatText(value=0.0, description='Width:')"
      ]
     },
     "metadata": {},
     "output_type": "display_data"
    },
    {
     "data": {
      "application/vnd.jupyter.widget-view+json": {
       "model_id": "68122ffc3b304584a1f66a846807c883",
       "version_major": 2,
       "version_minor": 0
      },
      "text/plain": [
       "HTML(value='<b>Please enter local or mapped drive letter below where centerline shape file is located:</b>')"
      ]
     },
     "metadata": {},
     "output_type": "display_data"
    },
    {
     "data": {
      "application/vnd.jupyter.widget-view+json": {
       "model_id": "38d1a455bdf14502913481fa4d5f9f25",
       "version_major": 2,
       "version_minor": 0
      },
      "text/plain": [
       "Text(value='C', description='Drive Letter:', placeholder='enter drive letter here')"
      ]
     },
     "metadata": {},
     "output_type": "display_data"
    }
   ],
   "source": [
    "# Define User Input Widgets\n",
    "lbl1 = widgets.HTML(\n",
    "    value= '<b>Number of CE-QUAL-W2 Segments)</b>',\n",
    ")\n",
    "\n",
    "seg_no_input = widgets.BoundedIntText(\n",
    "    value=1,\n",
    "    min=1,\n",
    "    max=1000000,\n",
    "    step=1,\n",
    "    description='Segments:',\n",
    "    disabled=False\n",
    ")\n",
    "\n",
    "lbl2 = widgets.HTML(\n",
    "    value= '<b>Transect Width (units are the same as the CRS associated with the centerline shape file)</b>',\n",
    ")\n",
    "\n",
    "width_input = widgets.FloatText(\n",
    "    value=0,\n",
    "    description='Width:',\n",
    "    disabled=False\n",
    ")\n",
    "\n",
    "lbl3 = widgets.HTML(\n",
    "    value= '<b>Please enter local or mapped drive letter below where centerline shape file is located:</b>',\n",
    ")\n",
    "\n",
    "drive_letter = widgets.Text(\n",
    "    value='C',\n",
    "    placeholder='enter drive letter here',\n",
    "    description='Drive Letter:',\n",
    "    disabled=False\n",
    ")\n",
    "\n",
    "# Display Widgets\n",
    "display(lbl1)\n",
    "display(seg_no_input)\n",
    "display(lbl2)\n",
    "display(width_input)\n",
    "display(lbl3)\n",
    "display(drive_letter)"
   ]
  },
  {
   "cell_type": "markdown",
   "metadata": {},
   "source": [
    "## User Select File Widget"
   ]
  },
  {
   "cell_type": "code",
   "execution_count": 16,
   "metadata": {},
   "outputs": [
    {
     "data": {
      "application/vnd.jupyter.widget-view+json": {
       "model_id": "f1f917d153914fedacac9cf99948d86a",
       "version_major": 2,
       "version_minor": 0
      },
      "text/plain": [
       "FileChooser(path='I:', filename='', title='HTML(value='', layout=Layout(display='none'))', show_hidden='False'…"
      ]
     },
     "metadata": {},
     "output_type": "display_data"
    }
   ],
   "source": [
    "#Add colon after drive letter\n",
    "drive_letter_str = drive_letter.value + r\":\"\n",
    "\n",
    "\n",
    "#### Code from: \"https://pypi.org/project/ipyfilechooser/\" ####\n",
    "\n",
    "# Create and display a FileChooser widget\n",
    "fc = FileChooser(drive_letter_str)\n",
    "fc.filter_pattern = '*.shp'\n",
    "display(fc)\n",
    "    \n",
    "# Change defaults and reset the dialog\n",
    "fc.default_path = drive_letter_str\n",
    "fc.default_filename = 'example_CL.shp'\n",
    "fc.reset()\n",
    "    \n",
    "# Shorthand reset\n",
    "fc.reset(path=drive_letter_str, filename='example_CL.shp')\n",
    "    \n",
    "# Change hidden files\n",
    "fc.show_hidden = True\n",
    "    \n",
    "# Show or hide folder icons\n",
    "fc.use_dir_icons = True\n",
    "    \n",
    "# Switch to folder-only mode\n",
    "fc.show_only_dirs = False\n",
    "    \n",
    "# Set a file filter pattern (uses https://docs.python.org/3/library/fnmatch.html)\n",
    "fc.filter_pattern = '*.shp'\n",
    "    \n",
    "# Change the title (use '' to hide)\n",
    "fc.title = '<b>Select Centerline Shape File</b>'\n",
    "\n",
    "# Sample callback function\n",
    "def change_title(chooser):\n",
    "    chooser.title = '<b>Select Centerline Shape File</b>'\n",
    "\n",
    "# Register callback function\n",
    "fc.register_callback(change_title)"
   ]
  },
  {
   "cell_type": "code",
   "execution_count": 17,
   "metadata": {},
   "outputs": [],
   "source": [
    "#Number of CE-QUAL-W2 Segments (USER INPUT)\n",
    "Seg_No = seg_no_input.value\n",
    "\n",
    "#Cross Section Width\n",
    "width = width_input.value  #(USER INPUT) [Units are the same as the projected CRS provided in the centerline shape file]\n",
    "\n",
    "#Import shape file centerline (USER INPUT)\n",
    "wrkDir = fc.selected_path\n",
    "pth_cl = fc.selected\n",
    "geo_df_cl = gpd.read_file(pth_cl)\n",
    "geo_df_cl_cntrd = gpd.read_file(pth_cl)\n",
    "geo_df_cl_bndry = gpd.read_file(pth_cl)\n",
    "cl_crs = geo_df_cl.crs"
   ]
  },
  {
   "cell_type": "markdown",
   "metadata": {},
   "source": [
    "## Find Vertices from Centerline"
   ]
  },
  {
   "cell_type": "code",
   "execution_count": 18,
   "metadata": {},
   "outputs": [],
   "source": [
    "geo_df_cl['points'] = geo_df_cl.apply(lambda x: [y for y in x['geometry'].coords], axis=1)\n",
    "cl_list = geo_df_cl['points'].tolist()\n",
    "cl_array = np.array(cl_list)\n",
    "cl_array_x = cl_array[0,...,0]\n",
    "cl_array_y = cl_array[0,...,1]"
   ]
  },
  {
   "cell_type": "markdown",
   "metadata": {},
   "source": [
    "## Find total length of the input Centerline"
   ]
  },
  {
   "cell_type": "code",
   "execution_count": 19,
   "metadata": {},
   "outputs": [],
   "source": [
    "n = 0\n",
    "dist_total = 0\n",
    "\n",
    "for row in cl_array_x:\n",
    "    if n == 0:\n",
    "        x_pre = cl_array_x[n]\n",
    "        y_pre = cl_array_y[n]\n",
    "        n = n + 1\n",
    "    else:\n",
    "        x_n = cl_array_x[n]\n",
    "        y_n = cl_array_y[n]\n",
    "        dist_seg = np.sqrt((x_n - x_pre)**2 + (y_n - y_pre)**2)\n",
    "        dist_total = dist_total + dist_seg\n",
    "        x_pre = x_n\n",
    "        y_pre = y_n\n",
    "        n = n + 1\n",
    "        cl_total_vertices = n"
   ]
  },
  {
   "cell_type": "markdown",
   "metadata": {},
   "source": [
    "## Find W2 transect mid-points and centerline segment bounding vertices along input centerline"
   ]
  },
  {
   "cell_type": "code",
   "execution_count": 20,
   "metadata": {},
   "outputs": [],
   "source": [
    "Seg_Lngth = dist_total / Seg_No\n",
    "n = 0\n",
    "k = 0\n",
    "Seg_total = 0\n",
    "clpts_w2Seg_total = Seg_No + 1\n",
    "clpts_w2Seg_shape = (clpts_w2Seg_total, 1)\n",
    "clpts_w2Seg_Dist = np.zeros(clpts_w2Seg_shape)\n",
    "clpts_w2Seg_X = np.zeros(clpts_w2Seg_shape)\n",
    "clpts_w2Seg_Y = np.zeros(clpts_w2Seg_shape)\n",
    "clpts_w2Seg_bnd_X1 = np.zeros(clpts_w2Seg_shape)\n",
    "clpts_w2Seg_bnd_X2 = np.zeros(clpts_w2Seg_shape)\n",
    "clpts_w2Seg_bnd_Y1 = np.zeros(clpts_w2Seg_shape)\n",
    "clpts_w2Seg_bnd_Y2 = np.zeros(clpts_w2Seg_shape)\n",
    "\n",
    "for row in clpts_w2Seg_Dist: \n",
    "    if k == 0:  #this if condition populates the data for the first point along the centerline\n",
    "        x_pre = cl_array_x[n]\n",
    "        y_pre = cl_array_y[n]\n",
    "        x_n = cl_array_x[n + 1]\n",
    "        y_n = cl_array_y[n + 1]\n",
    "        np.put(clpts_w2Seg_Dist, [k], [0])\n",
    "        np.put(clpts_w2Seg_X, [k], [x_pre])\n",
    "        np.put(clpts_w2Seg_Y, [k], [y_pre])\n",
    "        np.put(clpts_w2Seg_bnd_X1, [k], [x_pre])\n",
    "        np.put(clpts_w2Seg_bnd_X2, [k], [x_n])\n",
    "        np.put(clpts_w2Seg_bnd_Y1, [k], [y_pre])\n",
    "        np.put(clpts_w2Seg_bnd_Y2, [k], [y_n])\n",
    "        k = k + 1\n",
    "    elif k == (clpts_w2Seg_total - 1):  #this if condition populates the data for the last point along the centerline\n",
    "        x_pre = cl_array_x[cl_total_vertices - 2]\n",
    "        y_pre = cl_array_y[cl_total_vertices - 2]\n",
    "        x_n = cl_array_x[cl_total_vertices - 1]\n",
    "        y_n = cl_array_y[cl_total_vertices - 1]        \n",
    "        np.put(clpts_w2Seg_Dist, [k], [dist_total])\n",
    "        np.put(clpts_w2Seg_X, [k], [x_n])\n",
    "        np.put(clpts_w2Seg_Y, [k], [y_n])\n",
    "        np.put(clpts_w2Seg_bnd_X1, [k], [x_pre])\n",
    "        np.put(clpts_w2Seg_bnd_X2, [k], [x_n])\n",
    "        np.put(clpts_w2Seg_bnd_Y1, [k], [y_pre])\n",
    "        np.put(clpts_w2Seg_bnd_Y2, [k], [y_n])\n",
    "    else:\n",
    "        running_total = 0\n",
    "        Seg_total = Seg_total + Seg_Lngth\n",
    "        np.put(clpts_w2Seg_Dist, [k], [Seg_total])\n",
    "        n = 0\n",
    "        x_pre = cl_array_x[n]\n",
    "        y_pre = cl_array_y[n]\n",
    "        n = n + 1\n",
    "        while  Seg_total >= running_total:  #this while statement determines if the centerline segment has a W2 transect mid-point along it\n",
    "            x_n = cl_array_x[n]\n",
    "            y_n = cl_array_y[n]\n",
    "            dist_seg = np.sqrt((x_n - x_pre)**2 + (y_n - y_pre)**2)\n",
    "            running_total = running_total + dist_seg\n",
    "            np.put(clpts_w2Seg_bnd_X1, [k], [x_pre])\n",
    "            np.put(clpts_w2Seg_bnd_X2, [k], [x_n])\n",
    "            np.put(clpts_w2Seg_bnd_Y1, [k], [y_pre])\n",
    "            np.put(clpts_w2Seg_bnd_Y2, [k], [y_n])    \n",
    "            x_pre = x_n\n",
    "            y_pre = y_n\n",
    "            n = n + 1    \n",
    "        running_total_pre = running_total - dist_seg\n",
    "        D = Seg_total - running_total_pre\n",
    "        x_pre = cl_array_x[n - 2]\n",
    "        y_pre = cl_array_y[n - 2]\n",
    "        dx_sign = np.sign(x_n - x_pre)\n",
    "        if dx_sign == 0: #this if statement traps the undefined slope of the cl segment\n",
    "            #dx = 0 #x-coor is the same as x_pre since the cl segment is vertical\n",
    "            dy_sign = np.sign(y_n - y_pre)\n",
    "            dy = dy_sign * D\n",
    "            cl_ptX = x_pre\n",
    "            cl_ptY = y_pre + dy\n",
    "        else:\n",
    "            m_seg = (y_n - y_pre)/(x_n - x_pre)\n",
    "            b = y_pre - (m_seg * x_pre)\n",
    "            dx = D/(np.sqrt(1 + m_seg**2))\n",
    "            dx = dx_sign * dx\n",
    "            cl_ptX = x_pre + dx\n",
    "            cl_ptY = m_seg * cl_ptX + b\n",
    "            \n",
    "        np.put(clpts_w2Seg_X, [k], [cl_ptX])\n",
    "        np.put(clpts_w2Seg_Y, [k], [cl_ptY])\n",
    "        k = k + 1"
   ]
  },
  {
   "cell_type": "markdown",
   "metadata": {},
   "source": [
    "## Find End Points in the Transect"
   ]
  },
  {
   "cell_type": "code",
   "execution_count": 21,
   "metadata": {},
   "outputs": [],
   "source": [
    "n = 0\n",
    "d = width/2\n",
    "\n",
    "clpts_w2Seg_m_seg = np.zeros((clpts_w2Seg_Y.shape))\n",
    "clpts_w2Seg_m = np.zeros((clpts_w2Seg_Y.shape))\n",
    "clpts_w2Seg_ptX2_pos = np.zeros((clpts_w2Seg_Y.shape))\n",
    "clpts_w2Seg_ptY2_pos = np.zeros((clpts_w2Seg_Y.shape))\n",
    "clpts_w2Seg_ptX2_neg = np.zeros((clpts_w2Seg_Y.shape))\n",
    "clpts_w2Seg_ptY2_neg = np.zeros((clpts_w2Seg_Y.shape))\n",
    "width_Check_array = np.zeros((clpts_w2Seg_Y.shape))\n",
    "\n",
    "\n",
    "for row in clpts_w2Seg_X:\n",
    "    segX1 = clpts_w2Seg_bnd_X1[n]\n",
    "    segX2 = clpts_w2Seg_bnd_X2[n]\n",
    "    segY1 = clpts_w2Seg_bnd_Y1[n]\n",
    "    segY2 = clpts_w2Seg_bnd_Y2[n]\n",
    "    ptX1 = clpts_w2Seg_X[n] #This is the same value as row\n",
    "    ptY1 = clpts_w2Seg_Y[n]\n",
    "    dx_seg = segX2 - segX1\n",
    "    dy_seg = segY2 - segY1\n",
    "    if dx_seg == 0:\n",
    "        ptX2_pos = ptX1 + d\n",
    "        ptX2_neg = ptX1 - d\n",
    "        ptY2_pos = ptY1\n",
    "        ptY2_neg = ptY1\n",
    "    elif dy_seg == 0:\n",
    "        ptX2_pos = ptX1\n",
    "        ptX2_neg = ptX1\n",
    "        ptY2_pos = ptY1 + d\n",
    "        ptY2_neg = ptY1 - d\n",
    "    else:\n",
    "        m_seg = (dy_seg)/(dx_seg)\n",
    "        m = -1 / m_seg    #This is the slope perpendicular to the CenterLine segment\n",
    "        b = ptY1 - (m * ptX1)\n",
    "        dX = d/(np.sqrt(1 + m**2))\n",
    "        ptX2_pos = ptX1 + dX\n",
    "        ptX2_neg = ptX1 - dX\n",
    "        ptY2_pos = m * ptX2_pos + b\n",
    "        ptY2_neg = m * ptX2_neg + b\n",
    "    width_Check = np.sqrt((ptX2_pos - ptX2_neg)**2 + (ptY2_pos - ptY2_neg)**2)\n",
    "    if ((segX2 - segX1) * m) > (segY2 - segY1):\n",
    "        ptX2_pos_crss = ptX2_pos\n",
    "        ptY2_pos_crss = ptY2_pos\n",
    "        ptX2_neg_crss = ptX2_neg\n",
    "        ptY2_neg_crss = ptY2_neg    \n",
    "    else:\n",
    "        ptX2_neg_crss = ptX2_pos\n",
    "        ptY2_neg_crss = ptY2_pos\n",
    "        ptX2_pos_crss = ptX2_neg\n",
    "        ptY2_pos_crss = ptY2_neg\n",
    "    np.put(clpts_w2Seg_m_seg, [n], [m_seg])\n",
    "    np.put(clpts_w2Seg_m, [n], [m])\n",
    "    np.put(clpts_w2Seg_ptX2_pos, [n], [ptX2_pos_crss])\n",
    "    np.put(clpts_w2Seg_ptY2_pos, [n], [ptY2_pos_crss])\n",
    "    np.put(clpts_w2Seg_ptX2_neg, [n], [ptX2_neg_crss])\n",
    "    np.put(clpts_w2Seg_ptY2_neg, [n], [ptY2_neg_crss])\n",
    "    np.put(width_Check_array, [n], [width_Check])\n",
    "    n = n + 1"
   ]
  },
  {
   "cell_type": "markdown",
   "metadata": {},
   "source": [
    "## Create Geopanda Data Frame for Transect Lines"
   ]
  },
  {
   "cell_type": "code",
   "execution_count": 22,
   "metadata": {},
   "outputs": [],
   "source": [
    "#Create transect end point array\n",
    "transect_pts_A = np.column_stack((clpts_w2Seg_Dist, clpts_w2Seg_ptX2_pos, clpts_w2Seg_ptY2_pos))\n",
    "transect_pts_B = np.column_stack((clpts_w2Seg_Dist, clpts_w2Seg_ptX2_neg, clpts_w2Seg_ptY2_neg))\n",
    "transect_pts = np.concatenate((transect_pts_A, transect_pts_B), axis=0)\n",
    "\n",
    "#Create pandas data frame for transect end points\n",
    "df_transects = pd.DataFrame(data=transect_pts, columns=[\"cl_Distance\", \"Transect_Xcoor\", \"Transect_Ycoor\"])\n",
    "\n",
    "#Zip the coordinates into a point object and convert to a geopanda data frame\n",
    "geometry = [Point(xy) for xy in zip(df_transects.Transect_Xcoor, df_transects.Transect_Ycoor)]\n",
    "geo_df_transect_pts = gpd.GeoDataFrame(df_transects, geometry=geometry)\n",
    "\n",
    "#Create geopanda data frame for transect lines\n",
    "geo_df_transect_lines = geo_df_transect_pts.groupby(['cl_Distance'])['geometry'].apply(lambda x: LineString(x.tolist()))\n",
    "geo_df_transect_lines = gpd.GeoDataFrame(geo_df_transect_lines, geometry='geometry', crs = cl_crs)\n"
   ]
  },
  {
   "cell_type": "markdown",
   "metadata": {},
   "source": [
    "## Create and populate CE-QUAL-W2 polygons point arrays"
   ]
  },
  {
   "cell_type": "code",
   "execution_count": 23,
   "metadata": {},
   "outputs": [],
   "source": [
    "n = 1 #starting \"for loop\" at second record of the \"clpts_w2Seg_pts#2_***\" arrays to facilitate calling previous transect points\n",
    "clpts_w2Segplygn_shape = (Seg_No, 1)\n",
    "w2Seg_plygn_pt1_X = np.zeros((clpts_w2Segplygn_shape))\n",
    "w2Seg_plygn_pt2_X = np.zeros((clpts_w2Segplygn_shape))\n",
    "w2Seg_plygn_pt3_X = np.zeros((clpts_w2Segplygn_shape))\n",
    "w2Seg_plygn_pt4_X = np.zeros((clpts_w2Segplygn_shape))\n",
    "w2Seg_plygn_pt1_Y = np.zeros((clpts_w2Segplygn_shape))\n",
    "w2Seg_plygn_pt2_Y = np.zeros((clpts_w2Segplygn_shape))\n",
    "w2Seg_plygn_pt3_Y = np.zeros((clpts_w2Segplygn_shape))\n",
    "w2Seg_plygn_pt4_Y = np.zeros((clpts_w2Segplygn_shape))\n",
    "w2Seg_plygn_cldist = np.zeros((clpts_w2Segplygn_shape))\n",
    "w2Seg_plygn_ID = np.zeros((clpts_w2Segplygn_shape))\n",
    "\n",
    "for row in w2Seg_plygn_pt1_X:\n",
    "    pt1_X = clpts_w2Seg_ptX2_neg[n]\n",
    "    pt1_Y = clpts_w2Seg_ptY2_neg[n]\n",
    "    pt2_X = clpts_w2Seg_ptX2_pos[n]\n",
    "    pt2_Y = clpts_w2Seg_ptY2_pos[n]\n",
    "    pt3_X = clpts_w2Seg_ptX2_pos[n - 1]\n",
    "    pt3_Y = clpts_w2Seg_ptY2_pos[n - 1]\n",
    "    pt4_X = clpts_w2Seg_ptX2_neg[n - 1]\n",
    "    pt4_Y = clpts_w2Seg_ptY2_neg[n - 1]\n",
    "    cldist = clpts_w2Seg_Dist[n]\n",
    "    plygn_ID = n\n",
    "    np.put(w2Seg_plygn_pt1_X , [n - 1], [pt1_X])\n",
    "    np.put(w2Seg_plygn_pt2_X , [n - 1], [pt2_X])\n",
    "    np.put(w2Seg_plygn_pt3_X , [n - 1], [pt3_X])\n",
    "    np.put(w2Seg_plygn_pt4_X , [n - 1], [pt4_X])\n",
    "    np.put(w2Seg_plygn_pt1_Y , [n - 1], [pt1_Y])\n",
    "    np.put(w2Seg_plygn_pt2_Y , [n - 1], [pt2_Y])\n",
    "    np.put(w2Seg_plygn_pt3_Y , [n - 1], [pt3_Y])\n",
    "    np.put(w2Seg_plygn_pt4_Y , [n - 1], [pt4_Y])\n",
    "    np.put(w2Seg_plygn_cldist , [n - 1], [cldist])\n",
    "    np.put(w2Seg_plygn_ID , [n - 1], [plygn_ID])\n",
    "    n = n + 1"
   ]
  },
  {
   "cell_type": "markdown",
   "metadata": {},
   "source": [
    "## Create Geopanda Data Frame for W2 Polygon Segments"
   ]
  },
  {
   "cell_type": "code",
   "execution_count": 24,
   "metadata": {},
   "outputs": [],
   "source": [
    "#Assemble polygon points for use in pandas\n",
    "polygon_pts_A = np.column_stack((w2Seg_plygn_ID, w2Seg_plygn_cldist, w2Seg_plygn_pt1_X, w2Seg_plygn_pt1_Y))\n",
    "polygon_pts_B = np.column_stack((w2Seg_plygn_ID, w2Seg_plygn_cldist, w2Seg_plygn_pt2_X, w2Seg_plygn_pt2_Y))\n",
    "polygon_pts_C = np.column_stack((w2Seg_plygn_ID, w2Seg_plygn_cldist, w2Seg_plygn_pt3_X, w2Seg_plygn_pt3_Y))\n",
    "polygon_pts_D = np.column_stack((w2Seg_plygn_ID, w2Seg_plygn_cldist, w2Seg_plygn_pt4_X, w2Seg_plygn_pt4_Y))\n",
    "polygon_pts = np.concatenate((polygon_pts_A, polygon_pts_B, polygon_pts_C, polygon_pts_D), axis=0)\n",
    "\n",
    "#Create pandas data frame for W2 polygon segments\n",
    "df_polygon = pd.DataFrame(data=polygon_pts, columns=[\"w2SegID\", \"cl_Distance\", \"plygn_Xcoor\", \"plygn_Ycoor\"])\n",
    "\n",
    "#Zip the coordinates into a point object and convert to a geopanda data frame\n",
    "geometry = [Point(xy) for xy in zip(df_polygon.plygn_Xcoor, df_polygon.plygn_Ycoor)]\n",
    "geo_df_polygon_pts = gpd.GeoDataFrame(df_polygon, geometry=geometry)\n",
    "\n",
    "#Create geopanda data frame for W2 polygon segments\n",
    "geo_df_polygon = geo_df_polygon_pts.groupby(['w2SegID'])['geometry'].apply(lambda x: Polygon(x.tolist()))\n",
    "geo_df_polygon = gpd.GeoDataFrame(geo_df_polygon, geometry='geometry', crs = cl_crs)"
   ]
  },
  {
   "cell_type": "markdown",
   "metadata": {},
   "source": [
    "# Map Centerline, W2 Segment Transects, & W2 Segment Polygons)"
   ]
  },
  {
   "cell_type": "markdown",
   "metadata": {},
   "source": [
    "## Initialize for Mapping"
   ]
  },
  {
   "cell_type": "code",
   "execution_count": 25,
   "metadata": {},
   "outputs": [],
   "source": [
    "from ipyleaflet import (Map, GeoData, basemaps, WidgetControl, GeoJSON,\n",
    " LayersControl, Icon, Marker,basemap_to_tiles, Choropleth,\n",
    " MarkerCluster, Heatmap, SearchControl,  FullScreenControl, ScaleControl, \n",
    " MeasureControl)\n",
    "from ipywidgets import Text, HTML\n",
    "from branca.colormap import linear\n",
    "import json"
   ]
  },
  {
   "cell_type": "markdown",
   "metadata": {},
   "source": [
    "## Create Map Layers, Add Map Controls, and Display Map"
   ]
  },
  {
   "cell_type": "code",
   "execution_count": 26,
   "metadata": {},
   "outputs": [
    {
     "name": "stdout",
     "output_type": "stream",
     "text": [
      "NOTE: map can be zoomed to a rectangular area specified by dragging the mouse while pressing the shift key\n"
     ]
    },
    {
     "data": {
      "application/vnd.jupyter.widget-view+json": {
       "model_id": "03b7a25949fa4488b7da14c0210cced8",
       "version_major": 2,
       "version_minor": 0
      },
      "text/plain": [
       "Map(center=[38.291528915017324, -122.31211118815617], controls=(ZoomControl(options=['position', 'zoom_in_text…"
      ]
     },
     "metadata": {},
     "output_type": "display_data"
    }
   ],
   "source": [
    "#Provide initial center point\n",
    "geo_df_cl_cntrd['cl_centroid'] = geo_df_cl_cntrd.centroid\n",
    "geo_df_cl_cntrd = geo_df_cl_cntrd.set_geometry('cl_centroid')\n",
    "geo_df_cl_cntrd_mapCRS = geo_df_cl_cntrd.to_crs(4326)\n",
    "geo_df_cl_cntrd_mapCRS['points'] = geo_df_cl_cntrd_mapCRS.apply(lambda x: [y for y in x['cl_centroid'].coords], axis=1)\n",
    "cntrd_list = geo_df_cl_cntrd_mapCRS['points'].tolist()\n",
    "cntrd_array = np.array(cntrd_list)\n",
    "cntrd_array_y = cntrd_array[0,...,0]\n",
    "cntrd_array_x = cntrd_array[0,...,1]\n",
    "center = [cntrd_array_x[0], cntrd_array_y[0]]\n",
    "\n",
    "#Provide initial zoom level and find bounds of centerline for \"fit_bounds\" map method\n",
    "zoom = 6\n",
    "geo_df_cl_bndry['bndry'] = geo_df_cl_bndry.to_crs(4326).boundary\n",
    "bndry_list = geo_df_cl_bndry['bndry'].tolist()\n",
    "bndry_array = np.array(bndry_list)\n",
    "bndry_array_y = bndry_array[0,...,0]\n",
    "bndry_array_x = bndry_array[0,...,1]\n",
    "map_bounds = ((bndry_array_x[1], bndry_array_y[1]), (bndry_array_x[0], bndry_array_y[0]))\n",
    "\n",
    "#Create map and provide basemap\n",
    "m = Map(basemap=basemaps.Esri.WorldImagery, center=center, zoom=zoom)\n",
    "m.fit_bounds(map_bounds)\n",
    "\n",
    "#Create and add spatial data layers to the map\n",
    "map_cl = GeoData(geo_dataframe = geo_df_cl.to_crs(4326),\n",
    "                   style={'color': 'yellow', 'opacity':3, 'weight':1.9, 'dashArray':'0', 'fillOpacity':1},\n",
    "                   hover_style={'fillColor': 'blue' , 'fillOpacity': 0.2},\n",
    "                   name = 'Centerline')\n",
    "\n",
    "map_transects = GeoData(geo_dataframe = geo_df_transect_lines.to_crs(4326),\n",
    "                   style={'color': 'red', 'opacity':3, 'weight':1.9, 'dashArray':'0', 'fillOpacity':1},\n",
    "                   hover_style={'fillColor': 'blue' , 'fillOpacity': 0.2},\n",
    "                   name = 'W2 Transects')\n",
    "\n",
    "map_polygons = GeoData(geo_dataframe = geo_df_polygon.to_crs(4326),\n",
    "                   style={'color': 'blue', 'fillColor': '#3366cc', 'opacity':0.05, 'weight':1.9, 'dashArray':'2', 'fillOpacity':0.6},\n",
    "                   hover_style={'fillColor': 'green' , 'fillOpacity': 0.2},\n",
    "                   name = 'W2 Segments')\n",
    "\n",
    "m.add_layer(map_polygons)\n",
    "m.add_layer(map_transects)\n",
    "m.add_layer(map_cl)\n",
    "\n",
    "\n",
    "#Add map controls to the map\n",
    "m.add_control(LayersControl())\n",
    "m.add_control(FullScreenControl())\n",
    "m.add_control(ScaleControl(position='bottomleft'))\n",
    "\n",
    "measure = MeasureControl(\n",
    "    position='bottomleft',\n",
    "    active_color = 'orange',\n",
    "    primary_length_unit = 'meters'\n",
    ")\n",
    "m.add_control(measure)\n",
    "\n",
    "measure.completed_color = 'red'\n",
    "\n",
    "measure.add_length_unit('feet', 3.28084, 4)\n",
    "measure.secondary_length_unit = 'feet'\n",
    "\n",
    "measure.add_area_unit('sqfeet', 10.7639, 4)\n",
    "measure.secondary_area_unit = 'sqfeet'\n",
    "\n",
    "\n",
    "#Display the map\n",
    "print(\"NOTE: map can be zoomed to a rectangular area specified by dragging the mouse while pressing the shift key\")\n",
    "m\n"
   ]
  },
  {
   "cell_type": "code",
   "execution_count": null,
   "metadata": {},
   "outputs": [],
   "source": []
  }
 ],
 "metadata": {
  "celltoolbar": "Raw Cell Format",
  "kernelspec": {
   "display_name": "Python 3",
   "language": "python",
   "name": "python3"
  },
  "language_info": {
   "codemirror_mode": {
    "name": "ipython",
    "version": 3
   },
   "file_extension": ".py",
   "mimetype": "text/x-python",
   "name": "python",
   "nbconvert_exporter": "python",
   "pygments_lexer": "ipython3",
   "version": "3.7.9"
  }
 },
 "nbformat": 4,
 "nbformat_minor": 4
}
