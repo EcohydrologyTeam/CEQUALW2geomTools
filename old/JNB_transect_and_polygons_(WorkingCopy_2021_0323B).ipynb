{
 "cells": [
  {
   "cell_type": "markdown",
   "metadata": {},
   "source": [
    "# Create Transects and Polygons from Centerline"
   ]
  },
  {
   "cell_type": "markdown",
   "metadata": {},
   "source": [
    "Note: The user input centerline shape file must have a Coordinate Reference System (CRS) that is projected as opposed to geographic. A CRS is also known as a Spatial Reference System (SRS). Examples of a projected CRS are a state plane or Universal Transverse Mercator (UTM).\n"
   ]
  },
  {
   "cell_type": "markdown",
   "metadata": {},
   "source": [
    "## Initialize"
   ]
  },
  {
   "cell_type": "code",
   "execution_count": 1,
   "metadata": {},
   "outputs": [],
   "source": [
    "#jupyter nbextension enable --py --sys-prefix ipyleaflet\n",
    "import numpy as np\n",
    "import pandas as pd\n",
    "import geopandas as gpd\n",
    "from shapely.geometry import Point, LineString, Polygon\n",
    "import ipywidgets as widgets\n",
    "from IPython.display import display, display_html\n",
    "from ipyfilechooser import FileChooser\n",
    "import functools\n",
    "from traitlets import traitlets\n"
   ]
  },
  {
   "cell_type": "markdown",
   "metadata": {},
   "source": [
    "## User Input Widgets & Select File Widget"
   ]
  },
  {
   "cell_type": "code",
   "execution_count": 2,
   "metadata": {},
   "outputs": [
    {
     "data": {
      "application/vnd.jupyter.widget-view+json": {
       "model_id": "ad7c8c209de14ebea2cbcdf55ce0a0c0",
       "version_major": 2,
       "version_minor": 0
      },
      "text/plain": [
       "HTML(value='<b>Number of CE-QUAL-W2 Segments)</b>')"
      ]
     },
     "metadata": {},
     "output_type": "display_data"
    },
    {
     "data": {
      "application/vnd.jupyter.widget-view+json": {
       "model_id": "7d62cd2520434de7af53b9c034453935",
       "version_major": 2,
       "version_minor": 0
      },
      "text/plain": [
       "BoundedIntText(value=1, description='Segments:', max=1000000, min=1)"
      ]
     },
     "metadata": {},
     "output_type": "display_data"
    },
    {
     "data": {
      "application/vnd.jupyter.widget-view+json": {
       "model_id": "044ed86639af4a868ee018c704fe79ab",
       "version_major": 2,
       "version_minor": 0
      },
      "text/plain": [
       "HTML(value='<b>Transect Width (units are the same as the CRS associated with the centerline shape file)</b>')"
      ]
     },
     "metadata": {},
     "output_type": "display_data"
    },
    {
     "data": {
      "application/vnd.jupyter.widget-view+json": {
       "model_id": "48b7661ff2c44a3bbc98b1de536ea2ad",
       "version_major": 2,
       "version_minor": 0
      },
      "text/plain": [
       "FloatText(value=0.0, description='Width:')"
      ]
     },
     "metadata": {},
     "output_type": "display_data"
    },
    {
     "data": {
      "application/vnd.jupyter.widget-view+json": {
       "model_id": "17a731e0430d49509d0ad852092cf63a",
       "version_major": 2,
       "version_minor": 0
      },
      "text/plain": [
       "HTML(value='<b>Please enter local or mapped drive letter below where centerline shape file is located:</b>')"
      ]
     },
     "metadata": {},
     "output_type": "display_data"
    },
    {
     "data": {
      "application/vnd.jupyter.widget-view+json": {
       "model_id": "4c884f606cb1495aacba934c43928863",
       "version_major": 2,
       "version_minor": 0
      },
      "text/plain": [
       "Text(value='C', description='Drive Letter:', placeholder='enter drive letter here')"
      ]
     },
     "metadata": {},
     "output_type": "display_data"
    }
   ],
   "source": [
    "# Define User Input Widgets\n",
    "lbl1 = widgets.HTML(\n",
    "    value= '<b>Number of CE-QUAL-W2 Segments)</b>',\n",
    ")\n",
    "\n",
    "seg_no_input = widgets.BoundedIntText(\n",
    "    value=1,\n",
    "    min=1,\n",
    "    max=1000000,\n",
    "    step=1,\n",
    "    description='Segments:',\n",
    "    disabled=False\n",
    ")\n",
    "\n",
    "lbl2 = widgets.HTML(\n",
    "    value= '<b>Transect Width (units are the same as the CRS associated with the centerline shape file)</b>',\n",
    ")\n",
    "\n",
    "width_input = widgets.FloatText(\n",
    "    value=0,\n",
    "    description='Width:',\n",
    "    disabled=False\n",
    ")\n",
    "\n",
    "lbl3 = widgets.HTML(\n",
    "    value= '<b>Please enter local or mapped drive letter below where centerline shape file is located:</b>',\n",
    ")\n",
    "\n",
    "drive_letter = widgets.Text(\n",
    "    value='C',\n",
    "    placeholder='enter drive letter here',\n",
    "    description='Drive Letter:',\n",
    "    disabled=False\n",
    ")\n",
    "\n",
    "# Display Widgets\n",
    "display(lbl1)\n",
    "display(seg_no_input)\n",
    "display(lbl2)\n",
    "display(width_input)\n",
    "display(lbl3)\n",
    "display(drive_letter)"
   ]
  },
  {
   "cell_type": "code",
   "execution_count": 14,
   "metadata": {},
   "outputs": [
    {
     "data": {
      "application/vnd.jupyter.widget-view+json": {
       "model_id": "86ed1bdc0c7641c29c2822141d84579b",
       "version_major": 2,
       "version_minor": 0
      },
      "text/plain": [
       "FileChooser(path='I:', filename='', title='HTML(value='', layout=Layout(display='none'))', show_hidden='False'…"
      ]
     },
     "metadata": {},
     "output_type": "display_data"
    }
   ],
   "source": [
    "#Add colon after drive letter\n",
    "drive_letter_str = drive_letter.value + r\":\"\n",
    "\n",
    "\n",
    "#### Code from: \"https://pypi.org/project/ipyfilechooser/\" ####\n",
    "\n",
    "# Create and display a FileChooser widget\n",
    "fc = FileChooser(drive_letter_str)\n",
    "fc.filter_pattern = '*.shp'\n",
    "display(fc)\n",
    "    \n",
    "# Change defaults and reset the dialog\n",
    "fc.default_path = drive_letter_str\n",
    "fc.default_filename = 'example_CL.shp'\n",
    "fc.reset()\n",
    "    \n",
    "# Shorthand reset\n",
    "fc.reset(path=drive_letter_str, filename='example_CL.shp')\n",
    "    \n",
    "# Change hidden files\n",
    "fc.show_hidden = True\n",
    "    \n",
    "# Show or hide folder icons\n",
    "fc.use_dir_icons = True\n",
    "    \n",
    "# Switch to folder-only mode\n",
    "fc.show_only_dirs = False\n",
    "    \n",
    "# Set a file filter pattern (uses https://docs.python.org/3/library/fnmatch.html)\n",
    "fc.filter_pattern = '*.shp'\n",
    "    \n",
    "# Change the title (use '' to hide)\n",
    "fc.title = '<b>Select Centerline Shape File</b>'\n",
    "\n",
    "# Sample callback function\n",
    "def change_title(chooser):\n",
    "    chooser.title = '<b>Select Centerline Shape File</b>'\n",
    "\n",
    "# Register callback function\n",
    "fc.register_callback(change_title)"
   ]
  },
  {
   "cell_type": "code",
   "execution_count": 4,
   "metadata": {},
   "outputs": [],
   "source": [
    "#Number of CE-QUAL-W2 Segments (USER INPUT)\n",
    "Seg_No = seg_no_input.value\n",
    "\n",
    "#Cross Section Width\n",
    "Width = width_input.value  #(USER INPUT) [Units are the same as the projected CRS provided in the centerline shape file]\n",
    "\n",
    "#Import shape file centerline (USER INPUT)\n",
    "wrkDir = fc.selected_path\n",
    "pth_CL = fc.selected\n",
    "geo_df_CL = gpd.read_file(pth_CL)\n",
    "geo_df_CL_cntrd = gpd.read_file(pth_CL)\n",
    "geo_df_CL_bndry = gpd.read_file(pth_CL)\n",
    "CL_crs = geo_df_CL.crs"
   ]
  },
  {
   "cell_type": "markdown",
   "metadata": {},
   "source": [
    "## Find Vertices from Centerline"
   ]
  },
  {
   "cell_type": "code",
   "execution_count": 5,
   "metadata": {},
   "outputs": [],
   "source": [
    "geo_df_CL['points'] = geo_df_CL.apply(lambda x: [y for y in x['geometry'].coords], axis=1)\n",
    "CL_list = geo_df_CL['points'].tolist()\n",
    "CL_array = np.array(CL_list)\n",
    "CL_array_x = CL_array[0,...,0]\n",
    "CL_array_y = CL_array[0,...,1]"
   ]
  },
  {
   "cell_type": "markdown",
   "metadata": {},
   "source": [
    "## Find total length of the input Centerline"
   ]
  },
  {
   "cell_type": "code",
   "execution_count": 6,
   "metadata": {},
   "outputs": [],
   "source": [
    "n = 0\n",
    "dist_total = 0\n",
    "\n",
    "for row in CL_array_x:\n",
    "    if n == 0:\n",
    "        x_pre = CL_array_x[n]\n",
    "        y_pre = CL_array_y[n]\n",
    "        n = n + 1\n",
    "    else:\n",
    "        x_n = CL_array_x[n]\n",
    "        y_n = CL_array_y[n]\n",
    "        dist_seg = np.sqrt((x_n - x_pre)**2 + (y_n - y_pre)**2)\n",
    "        dist_total = dist_total + dist_seg\n",
    "        x_pre = x_n\n",
    "        y_pre = y_n\n",
    "        n = n + 1\n",
    "        CL_total_vertices = n"
   ]
  },
  {
   "cell_type": "markdown",
   "metadata": {},
   "source": [
    "## Find W2 transect mid-points and centerline segment bounding vertices along input centerline"
   ]
  },
  {
   "cell_type": "code",
   "execution_count": 7,
   "metadata": {},
   "outputs": [],
   "source": [
    "Seg_Lngth = dist_total / Seg_No\n",
    "n = 0\n",
    "k = 0\n",
    "Seg_total = 0\n",
    "CLpts_W2seg_total = Seg_No + 1\n",
    "CLpts_W2seg_shape = (CLpts_W2seg_total, 1)\n",
    "CLpts_W2seg_Dist = np.zeros(CLpts_W2seg_shape)\n",
    "CLpts_W2seg_X = np.zeros(CLpts_W2seg_shape)\n",
    "CLpts_W2seg_Y = np.zeros(CLpts_W2seg_shape)\n",
    "CLpts_W2seg_bnd_X1 = np.zeros(CLpts_W2seg_shape)\n",
    "CLpts_W2seg_bnd_X2 = np.zeros(CLpts_W2seg_shape)\n",
    "CLpts_W2seg_bnd_Y1 = np.zeros(CLpts_W2seg_shape)\n",
    "CLpts_W2seg_bnd_Y2 = np.zeros(CLpts_W2seg_shape)\n",
    "\n",
    "for row in CLpts_W2seg_Dist: \n",
    "    if k == 0:  #this if condition populates the data for the first point along the centerline\n",
    "        x_pre = CL_array_x[n]\n",
    "        y_pre = CL_array_y[n]\n",
    "        x_n = CL_array_x[n + 1]\n",
    "        y_n = CL_array_y[n + 1]\n",
    "        np.put(CLpts_W2seg_Dist, [k], [0])\n",
    "        np.put(CLpts_W2seg_X, [k], [x_pre])\n",
    "        np.put(CLpts_W2seg_Y, [k], [y_pre])\n",
    "        np.put(CLpts_W2seg_bnd_X1, [k], [x_pre])\n",
    "        np.put(CLpts_W2seg_bnd_X2, [k], [x_n])\n",
    "        np.put(CLpts_W2seg_bnd_Y1, [k], [y_pre])\n",
    "        np.put(CLpts_W2seg_bnd_Y2, [k], [y_n])\n",
    "        k = k + 1\n",
    "    elif k == (CLpts_W2seg_total - 1):  #this if condition populates the data for the last point along the centerline\n",
    "        x_pre = CL_array_x[CL_total_vertices - 2]\n",
    "        y_pre = CL_array_y[CL_total_vertices - 2]\n",
    "        x_n = CL_array_x[CL_total_vertices - 1]\n",
    "        y_n = CL_array_y[CL_total_vertices - 1]        \n",
    "        np.put(CLpts_W2seg_Dist, [k], [dist_total])\n",
    "        np.put(CLpts_W2seg_X, [k], [x_n])\n",
    "        np.put(CLpts_W2seg_Y, [k], [y_n])\n",
    "        np.put(CLpts_W2seg_bnd_X1, [k], [x_pre])\n",
    "        np.put(CLpts_W2seg_bnd_X2, [k], [x_n])\n",
    "        np.put(CLpts_W2seg_bnd_Y1, [k], [y_pre])\n",
    "        np.put(CLpts_W2seg_bnd_Y2, [k], [y_n])\n",
    "    else:\n",
    "        running_total = 0\n",
    "        Seg_total = Seg_total + Seg_Lngth\n",
    "        np.put(CLpts_W2seg_Dist, [k], [Seg_total])\n",
    "        n = 0\n",
    "        x_pre = CL_array_x[n]\n",
    "        y_pre = CL_array_y[n]\n",
    "        n = n + 1\n",
    "        while  Seg_total >= running_total:  #this while statement determines if the centerline segment has a W2 transect mid-point along it\n",
    "            x_n = CL_array_x[n]\n",
    "            y_n = CL_array_y[n]\n",
    "            dist_seg = np.sqrt((x_n - x_pre)**2 + (y_n - y_pre)**2)\n",
    "            running_total = running_total + dist_seg\n",
    "            np.put(CLpts_W2seg_bnd_X1, [k], [x_pre])\n",
    "            np.put(CLpts_W2seg_bnd_X2, [k], [x_n])\n",
    "            np.put(CLpts_W2seg_bnd_Y1, [k], [y_pre])\n",
    "            np.put(CLpts_W2seg_bnd_Y2, [k], [y_n])    \n",
    "            x_pre = x_n\n",
    "            y_pre = y_n\n",
    "            n = n + 1    \n",
    "        running_total_pre = running_total - dist_seg\n",
    "        D = Seg_total - running_total_pre\n",
    "        x_pre = CL_array_x[n - 2]\n",
    "        y_pre = CL_array_y[n - 2]\n",
    "        dx_sign = np.sign(x_n - x_pre)\n",
    "        if dx_sign == 0: #this if statement traps the undefined slope of the CL segment\n",
    "            #dx = 0 #x-coor is the same as x_pre since the CL segment is vertical\n",
    "            dy_sign = np.sign(y_n - y_pre)\n",
    "            dy = dy_sign * D\n",
    "            CL_PtX = x_pre\n",
    "            CL_PtY = y_pre + dy\n",
    "        else:\n",
    "            m_seg = (y_n - y_pre)/(x_n - x_pre)\n",
    "            b = y_pre - (m_seg * x_pre)\n",
    "            dx = D/(np.sqrt(1 + m_seg**2))\n",
    "            dx = dx_sign * dx\n",
    "            CL_PtX = x_pre + dx\n",
    "            CL_PtY = m_seg * CL_PtX + b\n",
    "            \n",
    "        np.put(CLpts_W2seg_X, [k], [CL_PtX])\n",
    "        np.put(CLpts_W2seg_Y, [k], [CL_PtY])\n",
    "        k = k + 1"
   ]
  },
  {
   "cell_type": "markdown",
   "metadata": {},
   "source": [
    "## Find End Points in the Transect"
   ]
  },
  {
   "cell_type": "code",
   "execution_count": 8,
   "metadata": {},
   "outputs": [
    {
     "name": "stderr",
     "output_type": "stream",
     "text": [
      "C:\\Users\\jrutyna\\AppData\\Local\\Continuum\\anaconda3\\lib\\site-packages\\ipykernel_launcher.py:20: RuntimeWarning: divide by zero encountered in true_divide\n"
     ]
    }
   ],
   "source": [
    "n = 0\n",
    "D = Width/2\n",
    "\n",
    "CLpts_W2seg_m_seg = np.zeros((CLpts_W2seg_Y.shape))\n",
    "CLpts_W2seg_m = np.zeros((CLpts_W2seg_Y.shape))\n",
    "CLpts_W2seg_PtX2_pos = np.zeros((CLpts_W2seg_Y.shape))\n",
    "CLpts_W2seg_PtY2_pos = np.zeros((CLpts_W2seg_Y.shape))\n",
    "CLpts_W2seg_PtX2_neg = np.zeros((CLpts_W2seg_Y.shape))\n",
    "CLpts_W2seg_PtY2_neg = np.zeros((CLpts_W2seg_Y.shape))\n",
    "Width_Check_array = np.zeros((CLpts_W2seg_Y.shape))\n",
    "\n",
    "\n",
    "for row in CLpts_W2seg_X:\n",
    "    SegX1 = CLpts_W2seg_bnd_X1[n]\n",
    "    SegX2 = CLpts_W2seg_bnd_X2[n]\n",
    "    SegY1 = CLpts_W2seg_bnd_Y1[n]\n",
    "    SegY2 = CLpts_W2seg_bnd_Y2[n]\n",
    "    PtX1 = CLpts_W2seg_X[n] #This is the same value as row\n",
    "    PtY1 = CLpts_W2seg_Y[n]\n",
    "    m_seg = (SegY2 - SegY1)/(SegX2 - SegX1) #Need an if statement here to trap errors with zero & undefined slopes\n",
    "    m = -1 / m_seg    #This is the slope perpendicular to the CenterLine Segment\n",
    "    b = PtY1 - (m * PtX1)\n",
    "    dX = D/(np.sqrt(1 + m**2))\n",
    "    PtX2_pos = PtX1 + dX\n",
    "    PtX2_neg = PtX1 - dX\n",
    "    PtY2_pos = m * PtX2_pos + b\n",
    "    PtY2_neg = m * PtX2_neg + b\n",
    "    Width_Check = np.sqrt((PtX2_pos - PtX2_neg)**2 + (PtY2_pos - PtY2_neg)**2)\n",
    "    dx_seg = SegX2 - SegX1\n",
    "    dy_seg = SegY2 - SegY1\n",
    "    dx_Ptpos = PtX2_pos - PtX1\n",
    "    dy_Ptpos = PtY2_pos - PtY1\n",
    "    dx_Ptneg = PtX2_neg - PtX1\n",
    "    dy_Ptneg = PtY2_neg - PtY1    \n",
    "    crss_pos = (dx_seg * dy_Ptpos) - (dy_seg * dx_Ptpos)\n",
    "    crss_neg = (dx_seg * dy_Ptneg) - (dy_seg * dx_Ptneg)\n",
    "    crss_pos_sgn = np.sign(crss_pos)\n",
    "    crss_neg_sgn = np.sign(crss_neg)\n",
    "    \n",
    "    if crss_pos_sgn == 1:\n",
    "        PtX2_pos_crss = PtX2_pos\n",
    "    else: PtX2_neg_crss = PtX2_pos\n",
    "    \n",
    "    if crss_pos_sgn == 1:\n",
    "        PtY2_pos_crss = PtY2_pos\n",
    "    else: PtY2_neg_crss = PtY2_pos    \n",
    "    \n",
    "    if crss_neg_sgn == 1:\n",
    "        PtX2_pos_crss = PtX2_neg\n",
    "    else: PtX2_neg_crss = PtX2_neg   \n",
    "    \n",
    "    if crss_neg_sgn == 1:\n",
    "        PtY2_pos_crss = PtY2_neg\n",
    "    else: PtY2_neg_crss = PtY2_neg    \n",
    "    \n",
    "    np.put(CLpts_W2seg_m_seg, [n], [m_seg])\n",
    "    np.put(CLpts_W2seg_m, [n], [m])\n",
    "    np.put(CLpts_W2seg_PtX2_pos, [n], [PtX2_pos_crss])\n",
    "    np.put(CLpts_W2seg_PtY2_pos, [n], [PtY2_pos_crss])\n",
    "    np.put(CLpts_W2seg_PtX2_neg, [n], [PtX2_neg_crss])\n",
    "    np.put(CLpts_W2seg_PtY2_neg, [n], [PtY2_neg_crss])\n",
    "    np.put(Width_Check_array, [n], [Width_Check])\n",
    "    n = n + 1"
   ]
  },
  {
   "cell_type": "markdown",
   "metadata": {},
   "source": [
    "## Create Geopanda Data Frame for Transect Lines"
   ]
  },
  {
   "cell_type": "code",
   "execution_count": 9,
   "metadata": {},
   "outputs": [],
   "source": [
    "#Create transect end point array\n",
    "Transect_Pts_A = np.column_stack((CLpts_W2seg_Dist, CLpts_W2seg_PtX2_pos, CLpts_W2seg_PtY2_pos))\n",
    "Transect_Pts_B = np.column_stack((CLpts_W2seg_Dist, CLpts_W2seg_PtX2_neg, CLpts_W2seg_PtY2_neg))\n",
    "Transect_Pts = np.concatenate((Transect_Pts_A, Transect_Pts_B), axis=0)\n",
    "\n",
    "#Create pandas data frame for transect end points\n",
    "df_transects = pd.DataFrame(data=Transect_Pts, columns=[\"CL_Distance\", \"Transect_Xcoor\", \"Transect_Ycoor\"])\n",
    "\n",
    "#Zip the coordinates into a point object and convert to a geopanda data frame\n",
    "geometry = [Point(xy) for xy in zip(df_transects.Transect_Xcoor, df_transects.Transect_Ycoor)]\n",
    "geo_df_transect_pts = gpd.GeoDataFrame(df_transects, geometry=geometry)\n",
    "\n",
    "#Create geopanda data frame for transect lines\n",
    "geo_df_transect_lines = geo_df_transect_pts.groupby(['CL_Distance'])['geometry'].apply(lambda x: LineString(x.tolist()))\n",
    "geo_df_transect_lines = gpd.GeoDataFrame(geo_df_transect_lines, geometry='geometry', crs = CL_crs)\n"
   ]
  },
  {
   "cell_type": "markdown",
   "metadata": {},
   "source": [
    "## Create and populate CE-QUAL-W2 polygons point arrays"
   ]
  },
  {
   "cell_type": "code",
   "execution_count": 10,
   "metadata": {},
   "outputs": [],
   "source": [
    "n = 1 #starting \"for loop\" at second record of the \"CLpts_W2seg_Pts#2_***\" arrays to facilitate calling previous transect points\n",
    "CLpts_W2segPlygn_shape = (Seg_No, 1)\n",
    "W2seg_Plygn_Pt1_X = np.zeros((CLpts_W2segPlygn_shape))\n",
    "W2seg_Plygn_Pt2_X = np.zeros((CLpts_W2segPlygn_shape))\n",
    "W2seg_Plygn_Pt3_X = np.zeros((CLpts_W2segPlygn_shape))\n",
    "W2seg_Plygn_Pt4_X = np.zeros((CLpts_W2segPlygn_shape))\n",
    "W2seg_Plygn_Pt1_Y = np.zeros((CLpts_W2segPlygn_shape))\n",
    "W2seg_Plygn_Pt2_Y = np.zeros((CLpts_W2segPlygn_shape))\n",
    "W2seg_Plygn_Pt3_Y = np.zeros((CLpts_W2segPlygn_shape))\n",
    "W2seg_Plygn_Pt4_Y = np.zeros((CLpts_W2segPlygn_shape))\n",
    "W2seg_Plygn_CLdist = np.zeros((CLpts_W2segPlygn_shape))\n",
    "W2seg_Plygn_ID = np.zeros((CLpts_W2segPlygn_shape))\n",
    "\n",
    "for row in W2seg_Plygn_Pt1_X:\n",
    "    Pt1_X = CLpts_W2seg_PtX2_neg[n]\n",
    "    Pt1_Y = CLpts_W2seg_PtY2_neg[n]\n",
    "    Pt2_X = CLpts_W2seg_PtX2_pos[n]\n",
    "    Pt2_Y = CLpts_W2seg_PtY2_pos[n]\n",
    "    Pt3_X = CLpts_W2seg_PtX2_pos[n - 1]\n",
    "    Pt3_Y = CLpts_W2seg_PtY2_pos[n - 1]\n",
    "    Pt4_X = CLpts_W2seg_PtX2_neg[n - 1]\n",
    "    Pt4_Y = CLpts_W2seg_PtY2_neg[n - 1]\n",
    "    CLdist = CLpts_W2seg_Dist[n]\n",
    "    Plygn_ID = n\n",
    "    np.put(W2seg_Plygn_Pt1_X , [n - 1], [Pt1_X])\n",
    "    np.put(W2seg_Plygn_Pt2_X , [n - 1], [Pt2_X])\n",
    "    np.put(W2seg_Plygn_Pt3_X , [n - 1], [Pt3_X])\n",
    "    np.put(W2seg_Plygn_Pt4_X , [n - 1], [Pt4_X])\n",
    "    np.put(W2seg_Plygn_Pt1_Y , [n - 1], [Pt1_Y])\n",
    "    np.put(W2seg_Plygn_Pt2_Y , [n - 1], [Pt2_Y])\n",
    "    np.put(W2seg_Plygn_Pt3_Y , [n - 1], [Pt3_Y])\n",
    "    np.put(W2seg_Plygn_Pt4_Y , [n - 1], [Pt4_Y])\n",
    "    np.put(W2seg_Plygn_CLdist , [n - 1], [CLdist])\n",
    "    np.put(W2seg_Plygn_ID , [n - 1], [Plygn_ID])\n",
    "    n = n + 1"
   ]
  },
  {
   "cell_type": "markdown",
   "metadata": {},
   "source": [
    "## Create Geopanda Data Frame for W2 Polygon Segments"
   ]
  },
  {
   "cell_type": "code",
   "execution_count": 11,
   "metadata": {},
   "outputs": [],
   "source": [
    "#Assemble polygon points for use in pandas\n",
    "Polygon_Pts_A = np.column_stack((W2seg_Plygn_ID, W2seg_Plygn_CLdist, W2seg_Plygn_Pt1_X, W2seg_Plygn_Pt1_Y))\n",
    "Polygon_Pts_B = np.column_stack((W2seg_Plygn_ID, W2seg_Plygn_CLdist, W2seg_Plygn_Pt2_X, W2seg_Plygn_Pt2_Y))\n",
    "Polygon_Pts_C = np.column_stack((W2seg_Plygn_ID, W2seg_Plygn_CLdist, W2seg_Plygn_Pt3_X, W2seg_Plygn_Pt3_Y))\n",
    "Polygon_Pts_D = np.column_stack((W2seg_Plygn_ID, W2seg_Plygn_CLdist, W2seg_Plygn_Pt4_X, W2seg_Plygn_Pt4_Y))\n",
    "Polygon_Pts = np.concatenate((Polygon_Pts_A, Polygon_Pts_B, Polygon_Pts_C, Polygon_Pts_D), axis=0)\n",
    "\n",
    "#Create pandas data frame for W2 polygon segments\n",
    "df_polygon = pd.DataFrame(data=Polygon_Pts, columns=[\"W2segID\", \"CL_Distance\", \"Plygn_Xcoor\", \"Plygn_Ycoor\"])\n",
    "\n",
    "#Zip the coordinates into a point object and convert to a geopanda data frame\n",
    "geometry = [Point(xy) for xy in zip(df_polygon.Plygn_Xcoor, df_polygon.Plygn_Ycoor)]\n",
    "geo_df_polygon_pts = gpd.GeoDataFrame(df_polygon, geometry=geometry)\n",
    "\n",
    "#Create geopanda data frame for W2 polygon segments\n",
    "geo_df_polygon = geo_df_polygon_pts.groupby(['W2segID'])['geometry'].apply(lambda x: Polygon(x.tolist()))\n",
    "geo_df_polygon = gpd.GeoDataFrame(geo_df_polygon, geometry='geometry', crs = CL_crs)"
   ]
  },
  {
   "cell_type": "markdown",
   "metadata": {},
   "source": [
    "# Map Centerline, W2 Segment Transects, & W2 Segment Polygons)"
   ]
  },
  {
   "cell_type": "markdown",
   "metadata": {},
   "source": [
    "## Initialize for Mapping"
   ]
  },
  {
   "cell_type": "code",
   "execution_count": 12,
   "metadata": {},
   "outputs": [],
   "source": [
    "from ipyleaflet import (Map, GeoData, basemaps, WidgetControl, GeoJSON,\n",
    " LayersControl, Icon, Marker,basemap_to_tiles, Choropleth,\n",
    " MarkerCluster, Heatmap, SearchControl,  FullScreenControl, ScaleControl, \n",
    " MeasureControl)\n",
    "from ipywidgets import Text, HTML\n",
    "from branca.colormap import linear\n",
    "import json"
   ]
  },
  {
   "cell_type": "markdown",
   "metadata": {},
   "source": [
    "## Create Map Layers, Add Map Controls, and Display Map"
   ]
  },
  {
   "cell_type": "code",
   "execution_count": 13,
   "metadata": {},
   "outputs": [
    {
     "name": "stdout",
     "output_type": "stream",
     "text": [
      "NOTE: map can be zoomed to a rectangular area specified by dragging the mouse while pressing the shift key\n"
     ]
    },
    {
     "data": {
      "application/vnd.jupyter.widget-view+json": {
       "model_id": "18655a7622a24c13b27d72f3d4ac21cc",
       "version_major": 2,
       "version_minor": 0
      },
      "text/plain": [
       "Map(center=[38.291528915017324, -122.31211118815617], controls=(ZoomControl(options=['position', 'zoom_in_text…"
      ]
     },
     "metadata": {},
     "output_type": "display_data"
    }
   ],
   "source": [
    "#Provide initial center point\n",
    "geo_df_CL_cntrd['CL_centroid'] = geo_df_CL_cntrd.centroid\n",
    "geo_df_CL_cntrd = geo_df_CL_cntrd.set_geometry('CL_centroid')\n",
    "geo_df_CL_cntrd_mapCRS = geo_df_CL_cntrd.to_crs(4326)\n",
    "geo_df_CL_cntrd_mapCRS['points'] = geo_df_CL_cntrd_mapCRS.apply(lambda x: [y for y in x['CL_centroid'].coords], axis=1)\n",
    "cntrd_list = geo_df_CL_cntrd_mapCRS['points'].tolist()\n",
    "cntrd_array = np.array(cntrd_list)\n",
    "cntrd_array_y = cntrd_array[0,...,0]\n",
    "cntrd_array_x = cntrd_array[0,...,1]\n",
    "center = [cntrd_array_x[0], cntrd_array_y[0]]\n",
    "\n",
    "#Provide initial zoom level and find bounds of centerline for \"fit_bounds\" map method\n",
    "zoom = 6\n",
    "geo_df_CL_bndry['bndry'] = geo_df_CL_bndry.to_crs(4326).boundary\n",
    "bndry_list = geo_df_CL_bndry['bndry'].tolist()\n",
    "bndry_array = np.array(bndry_list)\n",
    "bndry_array_y = bndry_array[0,...,0]\n",
    "bndry_array_x = bndry_array[0,...,1]\n",
    "map_bounds = ((bndry_array_x[1], bndry_array_y[1]), (bndry_array_x[0], bndry_array_y[0]))\n",
    "\n",
    "#Create map and provide basemap\n",
    "m = Map(basemap=basemaps.Esri.WorldImagery, center=center, zoom=zoom)\n",
    "m.fit_bounds(map_bounds)\n",
    "\n",
    "#Create and add spatial data layers to the map\n",
    "map_CL = GeoData(geo_dataframe = geo_df_CL.to_crs(4326),\n",
    "                   style={'color': 'yellow', 'opacity':3, 'weight':1.9, 'dashArray':'0', 'fillOpacity':1},\n",
    "                   hover_style={'fillColor': 'blue' , 'fillOpacity': 0.2},\n",
    "                   name = 'Centerline')\n",
    "\n",
    "map_transects = GeoData(geo_dataframe = geo_df_transect_lines.to_crs(4326),\n",
    "                   style={'color': 'red', 'opacity':3, 'weight':1.9, 'dashArray':'0', 'fillOpacity':1},\n",
    "                   hover_style={'fillColor': 'blue' , 'fillOpacity': 0.2},\n",
    "                   name = 'W2 Transects')\n",
    "\n",
    "map_polygons = GeoData(geo_dataframe = geo_df_polygon.to_crs(4326),\n",
    "                   style={'color': 'blue', 'fillColor': '#3366cc', 'opacity':0.05, 'weight':1.9, 'dashArray':'2', 'fillOpacity':0.6},\n",
    "                   hover_style={'fillColor': 'green' , 'fillOpacity': 0.2},\n",
    "                   name = 'W2 Segments')\n",
    "\n",
    "m.add_layer(map_polygons)\n",
    "m.add_layer(map_transects)\n",
    "m.add_layer(map_CL)\n",
    "\n",
    "\n",
    "#Add map controls to the map\n",
    "m.add_control(LayersControl())\n",
    "m.add_control(FullScreenControl())\n",
    "m.add_control(ScaleControl(position='bottomleft'))\n",
    "\n",
    "measure = MeasureControl(\n",
    "    position='bottomleft',\n",
    "    active_color = 'orange',\n",
    "    primary_length_unit = 'meters'\n",
    ")\n",
    "m.add_control(measure)\n",
    "\n",
    "measure.completed_color = 'red'\n",
    "\n",
    "measure.add_length_unit('feet', 3.28084, 4)\n",
    "measure.secondary_length_unit = 'feet'\n",
    "\n",
    "measure.add_area_unit('sqfeet', 10.7639, 4)\n",
    "measure.secondary_area_unit = 'sqfeet'\n",
    "\n",
    "\n",
    "#Display the map\n",
    "print(\"NOTE: map can be zoomed to a rectangular area specified by dragging the mouse while pressing the shift key\")\n",
    "m\n"
   ]
  },
  {
   "cell_type": "code",
   "execution_count": null,
   "metadata": {},
   "outputs": [],
   "source": []
  }
 ],
 "metadata": {
  "celltoolbar": "Raw Cell Format",
  "kernelspec": {
   "display_name": "Python 3",
   "language": "python",
   "name": "python3"
  },
  "language_info": {
   "codemirror_mode": {
    "name": "ipython",
    "version": 3
   },
   "file_extension": ".py",
   "mimetype": "text/x-python",
   "name": "python",
   "nbconvert_exporter": "python",
   "pygments_lexer": "ipython3",
   "version": "3.7.9"
  }
 },
 "nbformat": 4,
 "nbformat_minor": 4
}
